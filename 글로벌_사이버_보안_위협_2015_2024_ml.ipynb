{
  "cells": [
    {
      "cell_type": "markdown",
      "metadata": {
        "id": "view-in-github",
        "colab_type": "text"
      },
      "source": [
        "<a href=\"https://colab.research.google.com/github/sinwoo1212/oss2025/blob/main/%EA%B8%80%EB%A1%9C%EB%B2%8C_%EC%82%AC%EC%9D%B4%EB%B2%84_%EB%B3%B4%EC%95%88_%EC%9C%84%ED%98%91_2015_2024_ml.ipynb\" target=\"_parent\"><img src=\"https://colab.research.google.com/assets/colab-badge.svg\" alt=\"Open In Colab\"/></a>"
      ]
    },
    {
      "cell_type": "code",
      "execution_count": null,
      "id": "bf873cfb",
      "metadata": {
        "_cell_guid": "b1076dfc-b9ad-4769-8c92-a6c4dae69d19",
        "_uuid": "8f2839f25d086af736a60e9eeb907d3b93b6e0e5",
        "execution": {
          "iopub.execute_input": "2025-03-21T08:36:08.780368Z",
          "iopub.status.busy": "2025-03-21T08:36:08.779908Z",
          "iopub.status.idle": "2025-03-21T08:36:09.777592Z",
          "shell.execute_reply": "2025-03-21T08:36:09.776186Z"
        },
        "papermill": {
          "duration": 1.0078,
          "end_time": "2025-03-21T08:36:09.779955",
          "exception": false,
          "start_time": "2025-03-21T08:36:08.772155",
          "status": "completed"
        },
        "tags": [],
        "id": "bf873cfb",
        "outputId": "a89662fd-dc69-4e9b-bc8d-f62558b5b876"
      },
      "outputs": [
        {
          "name": "stdout",
          "output_type": "stream",
          "text": [
            "/kaggle/input/global-cybersecurity-threats-2015-2024/Global_Cybersecurity_Threats_2015-2024.csv\n"
          ]
        }
      ],
      "source": [
        "# This Python 3 environment comes with many helpful analytics libraries installed\n",
        "# It is defined by the kaggle/python Docker image: https://github.com/kaggle/docker-python\n",
        "# For example, here's several helpful packages to load\n",
        "\n",
        "import numpy as np # linear algebra\n",
        "import pandas as pd # data processing, CSV file I/O (e.g. pd.read_csv)\n",
        "\n",
        "# Input data files are available in the read-only \"../input/\" directory\n",
        "# For example, running this (by clicking run or pressing Shift+Enter) will list all files under the input directory\n",
        "\n",
        "import os\n",
        "for dirname, _, filenames in os.walk('/kaggle/input'):\n",
        "    for filename in filenames:\n",
        "        print(os.path.join(dirname, filename))\n",
        "\n",
        "# You can write up to 20GB to the current directory (/kaggle/working/) that gets preserved as output when you create a version using \"Save & Run All\"\n",
        "# You can also write temporary files to /kaggle/temp/, but they won't be saved outside of the current session"
      ]
    },
    {
      "cell_type": "markdown",
      "id": "3e1ed31e",
      "metadata": {
        "papermill": {
          "duration": 0.005637,
          "end_time": "2025-03-21T08:36:09.792046",
          "exception": false,
          "start_time": "2025-03-21T08:36:09.786409",
          "status": "completed"
        },
        "tags": [],
        "id": "3e1ed31e"
      },
      "source": [
        "## Title: Cybersecurity Threats (2015-2024)"
      ]
    },
    {
      "cell_type": "markdown",
      "id": "3d82e70a",
      "metadata": {
        "papermill": {
          "duration": 0.005606,
          "end_time": "2025-03-21T08:36:09.803654",
          "exception": false,
          "start_time": "2025-03-21T08:36:09.798048",
          "status": "completed"
        },
        "tags": [],
        "id": "3d82e70a"
      },
      "source": [
        "#### A decade of rising cyber threats, from ransomware attacks to AI-driven breaches, shaping global security challenges."
      ]
    },
    {
      "cell_type": "code",
      "execution_count": null,
      "id": "6527ad6a",
      "metadata": {
        "execution": {
          "iopub.execute_input": "2025-03-21T08:36:09.817803Z",
          "iopub.status.busy": "2025-03-21T08:36:09.817088Z",
          "iopub.status.idle": "2025-03-21T08:36:11.617341Z",
          "shell.execute_reply": "2025-03-21T08:36:11.616190Z"
        },
        "papermill": {
          "duration": 1.808851,
          "end_time": "2025-03-21T08:36:11.619144",
          "exception": false,
          "start_time": "2025-03-21T08:36:09.810293",
          "status": "completed"
        },
        "tags": [],
        "id": "6527ad6a"
      },
      "outputs": [],
      "source": [
        "import seaborn  as sns\n",
        "import matplotlib.pyplot as plt\n",
        "import warnings\n",
        "warnings.filterwarnings('ignore')"
      ]
    },
    {
      "cell_type": "markdown",
      "id": "86b18530",
      "metadata": {
        "papermill": {
          "duration": 0.00554,
          "end_time": "2025-03-21T08:36:11.630748",
          "exception": false,
          "start_time": "2025-03-21T08:36:11.625208",
          "status": "completed"
        },
        "tags": [],
        "id": "86b18530"
      },
      "source": [
        "## import dataset"
      ]
    },
    {
      "cell_type": "code",
      "execution_count": null,
      "id": "5883cb57",
      "metadata": {
        "execution": {
          "iopub.execute_input": "2025-03-21T08:36:11.643811Z",
          "iopub.status.busy": "2025-03-21T08:36:11.643233Z",
          "iopub.status.idle": "2025-03-21T08:36:11.673697Z",
          "shell.execute_reply": "2025-03-21T08:36:11.672351Z"
        },
        "papermill": {
          "duration": 0.039143,
          "end_time": "2025-03-21T08:36:11.675774",
          "exception": false,
          "start_time": "2025-03-21T08:36:11.636631",
          "status": "completed"
        },
        "tags": [],
        "id": "5883cb57"
      },
      "outputs": [],
      "source": [
        "df = pd.read_csv('/kaggle/input/global-cybersecurity-threats-2015-2024/Global_Cybersecurity_Threats_2015-2024.csv')"
      ]
    },
    {
      "cell_type": "code",
      "execution_count": null,
      "id": "614f9b54",
      "metadata": {
        "execution": {
          "iopub.execute_input": "2025-03-21T08:36:11.689373Z",
          "iopub.status.busy": "2025-03-21T08:36:11.688893Z",
          "iopub.status.idle": "2025-03-21T08:36:11.717062Z",
          "shell.execute_reply": "2025-03-21T08:36:11.715930Z"
        },
        "papermill": {
          "duration": 0.03688,
          "end_time": "2025-03-21T08:36:11.718744",
          "exception": false,
          "start_time": "2025-03-21T08:36:11.681864",
          "status": "completed"
        },
        "tags": [],
        "id": "614f9b54",
        "outputId": "916de8f3-6b0c-4b76-97a2-3349dde1c9e7"
      },
      "outputs": [
        {
          "data": {
            "text/html": [
              "<div>\n",
              "<style scoped>\n",
              "    .dataframe tbody tr th:only-of-type {\n",
              "        vertical-align: middle;\n",
              "    }\n",
              "\n",
              "    .dataframe tbody tr th {\n",
              "        vertical-align: top;\n",
              "    }\n",
              "\n",
              "    .dataframe thead th {\n",
              "        text-align: right;\n",
              "    }\n",
              "</style>\n",
              "<table border=\"1\" class=\"dataframe\">\n",
              "  <thead>\n",
              "    <tr style=\"text-align: right;\">\n",
              "      <th></th>\n",
              "      <th>Country</th>\n",
              "      <th>Year</th>\n",
              "      <th>Attack Type</th>\n",
              "      <th>Target Industry</th>\n",
              "      <th>Financial Loss (in Million $)</th>\n",
              "      <th>Number of Affected Users</th>\n",
              "      <th>Attack Source</th>\n",
              "      <th>Security Vulnerability Type</th>\n",
              "      <th>Defense Mechanism Used</th>\n",
              "      <th>Incident Resolution Time (in Hours)</th>\n",
              "    </tr>\n",
              "  </thead>\n",
              "  <tbody>\n",
              "    <tr>\n",
              "      <th>0</th>\n",
              "      <td>China</td>\n",
              "      <td>2019</td>\n",
              "      <td>Phishing</td>\n",
              "      <td>Education</td>\n",
              "      <td>80.53</td>\n",
              "      <td>773169</td>\n",
              "      <td>Hacker Group</td>\n",
              "      <td>Unpatched Software</td>\n",
              "      <td>VPN</td>\n",
              "      <td>63</td>\n",
              "    </tr>\n",
              "    <tr>\n",
              "      <th>1</th>\n",
              "      <td>China</td>\n",
              "      <td>2019</td>\n",
              "      <td>Ransomware</td>\n",
              "      <td>Retail</td>\n",
              "      <td>62.19</td>\n",
              "      <td>295961</td>\n",
              "      <td>Hacker Group</td>\n",
              "      <td>Unpatched Software</td>\n",
              "      <td>Firewall</td>\n",
              "      <td>71</td>\n",
              "    </tr>\n",
              "    <tr>\n",
              "      <th>2</th>\n",
              "      <td>India</td>\n",
              "      <td>2017</td>\n",
              "      <td>Man-in-the-Middle</td>\n",
              "      <td>IT</td>\n",
              "      <td>38.65</td>\n",
              "      <td>605895</td>\n",
              "      <td>Hacker Group</td>\n",
              "      <td>Weak Passwords</td>\n",
              "      <td>VPN</td>\n",
              "      <td>20</td>\n",
              "    </tr>\n",
              "    <tr>\n",
              "      <th>3</th>\n",
              "      <td>UK</td>\n",
              "      <td>2024</td>\n",
              "      <td>Ransomware</td>\n",
              "      <td>Telecommunications</td>\n",
              "      <td>41.44</td>\n",
              "      <td>659320</td>\n",
              "      <td>Nation-state</td>\n",
              "      <td>Social Engineering</td>\n",
              "      <td>AI-based Detection</td>\n",
              "      <td>7</td>\n",
              "    </tr>\n",
              "    <tr>\n",
              "      <th>4</th>\n",
              "      <td>Germany</td>\n",
              "      <td>2018</td>\n",
              "      <td>Man-in-the-Middle</td>\n",
              "      <td>IT</td>\n",
              "      <td>74.41</td>\n",
              "      <td>810682</td>\n",
              "      <td>Insider</td>\n",
              "      <td>Social Engineering</td>\n",
              "      <td>VPN</td>\n",
              "      <td>68</td>\n",
              "    </tr>\n",
              "  </tbody>\n",
              "</table>\n",
              "</div>"
            ],
            "text/plain": [
              "   Country  Year        Attack Type     Target Industry  \\\n",
              "0    China  2019           Phishing           Education   \n",
              "1    China  2019         Ransomware              Retail   \n",
              "2    India  2017  Man-in-the-Middle                  IT   \n",
              "3       UK  2024         Ransomware  Telecommunications   \n",
              "4  Germany  2018  Man-in-the-Middle                  IT   \n",
              "\n",
              "   Financial Loss (in Million $)  Number of Affected Users Attack Source  \\\n",
              "0                          80.53                    773169  Hacker Group   \n",
              "1                          62.19                    295961  Hacker Group   \n",
              "2                          38.65                    605895  Hacker Group   \n",
              "3                          41.44                    659320  Nation-state   \n",
              "4                          74.41                    810682       Insider   \n",
              "\n",
              "  Security Vulnerability Type Defense Mechanism Used  \\\n",
              "0          Unpatched Software                    VPN   \n",
              "1          Unpatched Software               Firewall   \n",
              "2              Weak Passwords                    VPN   \n",
              "3          Social Engineering     AI-based Detection   \n",
              "4          Social Engineering                    VPN   \n",
              "\n",
              "   Incident Resolution Time (in Hours)  \n",
              "0                                   63  \n",
              "1                                   71  \n",
              "2                                   20  \n",
              "3                                    7  \n",
              "4                                   68  "
            ]
          },
          "execution_count": 4,
          "metadata": {},
          "output_type": "execute_result"
        }
      ],
      "source": [
        "df.head()"
      ]
    },
    {
      "cell_type": "code",
      "execution_count": null,
      "id": "addc3209",
      "metadata": {
        "execution": {
          "iopub.execute_input": "2025-03-21T08:36:11.732434Z",
          "iopub.status.busy": "2025-03-21T08:36:11.731969Z",
          "iopub.status.idle": "2025-03-21T08:36:11.745399Z",
          "shell.execute_reply": "2025-03-21T08:36:11.744336Z"
        },
        "papermill": {
          "duration": 0.022092,
          "end_time": "2025-03-21T08:36:11.747091",
          "exception": false,
          "start_time": "2025-03-21T08:36:11.724999",
          "status": "completed"
        },
        "tags": [],
        "id": "addc3209",
        "outputId": "73315776-8d1c-4316-cc5e-7ad94c09fd70"
      },
      "outputs": [
        {
          "data": {
            "text/html": [
              "<div>\n",
              "<style scoped>\n",
              "    .dataframe tbody tr th:only-of-type {\n",
              "        vertical-align: middle;\n",
              "    }\n",
              "\n",
              "    .dataframe tbody tr th {\n",
              "        vertical-align: top;\n",
              "    }\n",
              "\n",
              "    .dataframe thead th {\n",
              "        text-align: right;\n",
              "    }\n",
              "</style>\n",
              "<table border=\"1\" class=\"dataframe\">\n",
              "  <thead>\n",
              "    <tr style=\"text-align: right;\">\n",
              "      <th></th>\n",
              "      <th>Country</th>\n",
              "      <th>Year</th>\n",
              "      <th>Attack Type</th>\n",
              "      <th>Target Industry</th>\n",
              "      <th>Financial Loss (in Million $)</th>\n",
              "      <th>Number of Affected Users</th>\n",
              "      <th>Attack Source</th>\n",
              "      <th>Security Vulnerability Type</th>\n",
              "      <th>Defense Mechanism Used</th>\n",
              "      <th>Incident Resolution Time (in Hours)</th>\n",
              "    </tr>\n",
              "  </thead>\n",
              "  <tbody>\n",
              "    <tr>\n",
              "      <th>2995</th>\n",
              "      <td>UK</td>\n",
              "      <td>2021</td>\n",
              "      <td>Ransomware</td>\n",
              "      <td>Government</td>\n",
              "      <td>51.42</td>\n",
              "      <td>190694</td>\n",
              "      <td>Unknown</td>\n",
              "      <td>Social Engineering</td>\n",
              "      <td>Firewall</td>\n",
              "      <td>52</td>\n",
              "    </tr>\n",
              "    <tr>\n",
              "      <th>2996</th>\n",
              "      <td>Brazil</td>\n",
              "      <td>2023</td>\n",
              "      <td>SQL Injection</td>\n",
              "      <td>Telecommunications</td>\n",
              "      <td>30.28</td>\n",
              "      <td>892843</td>\n",
              "      <td>Hacker Group</td>\n",
              "      <td>Zero-day</td>\n",
              "      <td>VPN</td>\n",
              "      <td>26</td>\n",
              "    </tr>\n",
              "    <tr>\n",
              "      <th>2997</th>\n",
              "      <td>Brazil</td>\n",
              "      <td>2017</td>\n",
              "      <td>SQL Injection</td>\n",
              "      <td>IT</td>\n",
              "      <td>32.97</td>\n",
              "      <td>734737</td>\n",
              "      <td>Nation-state</td>\n",
              "      <td>Weak Passwords</td>\n",
              "      <td>AI-based Detection</td>\n",
              "      <td>30</td>\n",
              "    </tr>\n",
              "    <tr>\n",
              "      <th>2998</th>\n",
              "      <td>UK</td>\n",
              "      <td>2022</td>\n",
              "      <td>SQL Injection</td>\n",
              "      <td>IT</td>\n",
              "      <td>32.17</td>\n",
              "      <td>379954</td>\n",
              "      <td>Insider</td>\n",
              "      <td>Unpatched Software</td>\n",
              "      <td>Firewall</td>\n",
              "      <td>9</td>\n",
              "    </tr>\n",
              "    <tr>\n",
              "      <th>2999</th>\n",
              "      <td>Germany</td>\n",
              "      <td>2021</td>\n",
              "      <td>SQL Injection</td>\n",
              "      <td>Retail</td>\n",
              "      <td>48.20</td>\n",
              "      <td>480984</td>\n",
              "      <td>Unknown</td>\n",
              "      <td>Zero-day</td>\n",
              "      <td>VPN</td>\n",
              "      <td>64</td>\n",
              "    </tr>\n",
              "  </tbody>\n",
              "</table>\n",
              "</div>"
            ],
            "text/plain": [
              "      Country  Year    Attack Type     Target Industry  \\\n",
              "2995       UK  2021     Ransomware          Government   \n",
              "2996   Brazil  2023  SQL Injection  Telecommunications   \n",
              "2997   Brazil  2017  SQL Injection                  IT   \n",
              "2998       UK  2022  SQL Injection                  IT   \n",
              "2999  Germany  2021  SQL Injection              Retail   \n",
              "\n",
              "      Financial Loss (in Million $)  Number of Affected Users Attack Source  \\\n",
              "2995                          51.42                    190694       Unknown   \n",
              "2996                          30.28                    892843  Hacker Group   \n",
              "2997                          32.97                    734737  Nation-state   \n",
              "2998                          32.17                    379954       Insider   \n",
              "2999                          48.20                    480984       Unknown   \n",
              "\n",
              "     Security Vulnerability Type Defense Mechanism Used  \\\n",
              "2995          Social Engineering               Firewall   \n",
              "2996                    Zero-day                    VPN   \n",
              "2997              Weak Passwords     AI-based Detection   \n",
              "2998          Unpatched Software               Firewall   \n",
              "2999                    Zero-day                    VPN   \n",
              "\n",
              "      Incident Resolution Time (in Hours)  \n",
              "2995                                   52  \n",
              "2996                                   26  \n",
              "2997                                   30  \n",
              "2998                                    9  \n",
              "2999                                   64  "
            ]
          },
          "execution_count": 5,
          "metadata": {},
          "output_type": "execute_result"
        }
      ],
      "source": [
        "df.tail()"
      ]
    },
    {
      "cell_type": "code",
      "execution_count": null,
      "id": "e0126c03",
      "metadata": {
        "execution": {
          "iopub.execute_input": "2025-03-21T08:36:11.761379Z",
          "iopub.status.busy": "2025-03-21T08:36:11.760940Z",
          "iopub.status.idle": "2025-03-21T08:36:11.791875Z",
          "shell.execute_reply": "2025-03-21T08:36:11.790297Z"
        },
        "papermill": {
          "duration": 0.040097,
          "end_time": "2025-03-21T08:36:11.793771",
          "exception": false,
          "start_time": "2025-03-21T08:36:11.753674",
          "status": "completed"
        },
        "tags": [],
        "id": "e0126c03",
        "outputId": "364589c6-3cea-4014-e571-979798be118e"
      },
      "outputs": [
        {
          "name": "stdout",
          "output_type": "stream",
          "text": [
            "<class 'pandas.core.frame.DataFrame'>\n",
            "RangeIndex: 3000 entries, 0 to 2999\n",
            "Data columns (total 10 columns):\n",
            " #   Column                               Non-Null Count  Dtype  \n",
            "---  ------                               --------------  -----  \n",
            " 0   Country                              3000 non-null   object \n",
            " 1   Year                                 3000 non-null   int64  \n",
            " 2   Attack Type                          3000 non-null   object \n",
            " 3   Target Industry                      3000 non-null   object \n",
            " 4   Financial Loss (in Million $)        3000 non-null   float64\n",
            " 5   Number of Affected Users             3000 non-null   int64  \n",
            " 6   Attack Source                        3000 non-null   object \n",
            " 7   Security Vulnerability Type          3000 non-null   object \n",
            " 8   Defense Mechanism Used               3000 non-null   object \n",
            " 9   Incident Resolution Time (in Hours)  3000 non-null   int64  \n",
            "dtypes: float64(1), int64(3), object(6)\n",
            "memory usage: 234.5+ KB\n"
          ]
        }
      ],
      "source": [
        "df.info()"
      ]
    },
    {
      "cell_type": "code",
      "execution_count": null,
      "id": "c3ddbc88",
      "metadata": {
        "execution": {
          "iopub.execute_input": "2025-03-21T08:36:11.808134Z",
          "iopub.status.busy": "2025-03-21T08:36:11.807778Z",
          "iopub.status.idle": "2025-03-21T08:36:11.829675Z",
          "shell.execute_reply": "2025-03-21T08:36:11.828569Z"
        },
        "papermill": {
          "duration": 0.031027,
          "end_time": "2025-03-21T08:36:11.831592",
          "exception": false,
          "start_time": "2025-03-21T08:36:11.800565",
          "status": "completed"
        },
        "tags": [],
        "id": "c3ddbc88",
        "outputId": "712050a4-5ccd-40b3-e7ea-ac254133f626"
      },
      "outputs": [
        {
          "data": {
            "text/html": [
              "<div>\n",
              "<style scoped>\n",
              "    .dataframe tbody tr th:only-of-type {\n",
              "        vertical-align: middle;\n",
              "    }\n",
              "\n",
              "    .dataframe tbody tr th {\n",
              "        vertical-align: top;\n",
              "    }\n",
              "\n",
              "    .dataframe thead th {\n",
              "        text-align: right;\n",
              "    }\n",
              "</style>\n",
              "<table border=\"1\" class=\"dataframe\">\n",
              "  <thead>\n",
              "    <tr style=\"text-align: right;\">\n",
              "      <th></th>\n",
              "      <th>Year</th>\n",
              "      <th>Financial Loss (in Million $)</th>\n",
              "      <th>Number of Affected Users</th>\n",
              "      <th>Incident Resolution Time (in Hours)</th>\n",
              "    </tr>\n",
              "  </thead>\n",
              "  <tbody>\n",
              "    <tr>\n",
              "      <th>count</th>\n",
              "      <td>3000.000000</td>\n",
              "      <td>3000.000000</td>\n",
              "      <td>3000.000000</td>\n",
              "      <td>3000.000000</td>\n",
              "    </tr>\n",
              "    <tr>\n",
              "      <th>mean</th>\n",
              "      <td>2019.570333</td>\n",
              "      <td>50.492970</td>\n",
              "      <td>504684.136333</td>\n",
              "      <td>36.476000</td>\n",
              "    </tr>\n",
              "    <tr>\n",
              "      <th>std</th>\n",
              "      <td>2.857932</td>\n",
              "      <td>28.791415</td>\n",
              "      <td>289944.084972</td>\n",
              "      <td>20.570768</td>\n",
              "    </tr>\n",
              "    <tr>\n",
              "      <th>min</th>\n",
              "      <td>2015.000000</td>\n",
              "      <td>0.500000</td>\n",
              "      <td>424.000000</td>\n",
              "      <td>1.000000</td>\n",
              "    </tr>\n",
              "    <tr>\n",
              "      <th>25%</th>\n",
              "      <td>2017.000000</td>\n",
              "      <td>25.757500</td>\n",
              "      <td>255805.250000</td>\n",
              "      <td>19.000000</td>\n",
              "    </tr>\n",
              "    <tr>\n",
              "      <th>50%</th>\n",
              "      <td>2020.000000</td>\n",
              "      <td>50.795000</td>\n",
              "      <td>504513.000000</td>\n",
              "      <td>37.000000</td>\n",
              "    </tr>\n",
              "    <tr>\n",
              "      <th>75%</th>\n",
              "      <td>2022.000000</td>\n",
              "      <td>75.630000</td>\n",
              "      <td>758088.500000</td>\n",
              "      <td>55.000000</td>\n",
              "    </tr>\n",
              "    <tr>\n",
              "      <th>max</th>\n",
              "      <td>2024.000000</td>\n",
              "      <td>99.990000</td>\n",
              "      <td>999635.000000</td>\n",
              "      <td>72.000000</td>\n",
              "    </tr>\n",
              "  </tbody>\n",
              "</table>\n",
              "</div>"
            ],
            "text/plain": [
              "              Year  Financial Loss (in Million $)  Number of Affected Users  \\\n",
              "count  3000.000000                    3000.000000               3000.000000   \n",
              "mean   2019.570333                      50.492970             504684.136333   \n",
              "std       2.857932                      28.791415             289944.084972   \n",
              "min    2015.000000                       0.500000                424.000000   \n",
              "25%    2017.000000                      25.757500             255805.250000   \n",
              "50%    2020.000000                      50.795000             504513.000000   \n",
              "75%    2022.000000                      75.630000             758088.500000   \n",
              "max    2024.000000                      99.990000             999635.000000   \n",
              "\n",
              "       Incident Resolution Time (in Hours)  \n",
              "count                          3000.000000  \n",
              "mean                             36.476000  \n",
              "std                              20.570768  \n",
              "min                               1.000000  \n",
              "25%                              19.000000  \n",
              "50%                              37.000000  \n",
              "75%                              55.000000  \n",
              "max                              72.000000  "
            ]
          },
          "execution_count": 7,
          "metadata": {},
          "output_type": "execute_result"
        }
      ],
      "source": [
        "df.describe()"
      ]
    },
    {
      "cell_type": "code",
      "execution_count": null,
      "id": "b0dcf253",
      "metadata": {
        "execution": {
          "iopub.execute_input": "2025-03-21T08:36:11.846205Z",
          "iopub.status.busy": "2025-03-21T08:36:11.845845Z",
          "iopub.status.idle": "2025-03-21T08:36:11.854460Z",
          "shell.execute_reply": "2025-03-21T08:36:11.853352Z"
        },
        "papermill": {
          "duration": 0.017597,
          "end_time": "2025-03-21T08:36:11.856160",
          "exception": false,
          "start_time": "2025-03-21T08:36:11.838563",
          "status": "completed"
        },
        "tags": [],
        "id": "b0dcf253",
        "outputId": "3827c400-dc0a-4587-8a6e-944da5ba0e8c"
      },
      "outputs": [
        {
          "data": {
            "text/plain": [
              "Country                                0\n",
              "Year                                   0\n",
              "Attack Type                            0\n",
              "Target Industry                        0\n",
              "Financial Loss (in Million $)          0\n",
              "Number of Affected Users               0\n",
              "Attack Source                          0\n",
              "Security Vulnerability Type            0\n",
              "Defense Mechanism Used                 0\n",
              "Incident Resolution Time (in Hours)    0\n",
              "dtype: int64"
            ]
          },
          "execution_count": 8,
          "metadata": {},
          "output_type": "execute_result"
        }
      ],
      "source": [
        "df.isnull().sum()"
      ]
    },
    {
      "cell_type": "code",
      "execution_count": null,
      "id": "68cc4319",
      "metadata": {
        "execution": {
          "iopub.execute_input": "2025-03-21T08:36:11.871013Z",
          "iopub.status.busy": "2025-03-21T08:36:11.870682Z",
          "iopub.status.idle": "2025-03-21T08:36:11.880181Z",
          "shell.execute_reply": "2025-03-21T08:36:11.879082Z"
        },
        "papermill": {
          "duration": 0.018915,
          "end_time": "2025-03-21T08:36:11.881874",
          "exception": false,
          "start_time": "2025-03-21T08:36:11.862959",
          "status": "completed"
        },
        "tags": [],
        "id": "68cc4319",
        "outputId": "cdf9c2d4-53bb-4403-980d-ad0899f18f1c"
      },
      "outputs": [
        {
          "data": {
            "text/plain": [
              "0"
            ]
          },
          "execution_count": 9,
          "metadata": {},
          "output_type": "execute_result"
        }
      ],
      "source": [
        "df.duplicated().sum()"
      ]
    },
    {
      "cell_type": "code",
      "execution_count": null,
      "id": "428b291c",
      "metadata": {
        "execution": {
          "iopub.execute_input": "2025-03-21T08:36:11.896746Z",
          "iopub.status.busy": "2025-03-21T08:36:11.896416Z",
          "iopub.status.idle": "2025-03-21T08:36:11.903704Z",
          "shell.execute_reply": "2025-03-21T08:36:11.902360Z"
        },
        "papermill": {
          "duration": 0.01715,
          "end_time": "2025-03-21T08:36:11.905791",
          "exception": false,
          "start_time": "2025-03-21T08:36:11.888641",
          "status": "completed"
        },
        "tags": [],
        "id": "428b291c",
        "outputId": "7040822e-c3e6-404f-b4f5-acaabe3cd2dd"
      },
      "outputs": [
        {
          "data": {
            "text/plain": [
              "Country                                 object\n",
              "Year                                     int64\n",
              "Attack Type                             object\n",
              "Target Industry                         object\n",
              "Financial Loss (in Million $)          float64\n",
              "Number of Affected Users                 int64\n",
              "Attack Source                           object\n",
              "Security Vulnerability Type             object\n",
              "Defense Mechanism Used                  object\n",
              "Incident Resolution Time (in Hours)      int64\n",
              "dtype: object"
            ]
          },
          "execution_count": 10,
          "metadata": {},
          "output_type": "execute_result"
        }
      ],
      "source": [
        "df.dtypes"
      ]
    },
    {
      "cell_type": "code",
      "execution_count": null,
      "id": "9c4e37ee",
      "metadata": {
        "execution": {
          "iopub.execute_input": "2025-03-21T08:36:11.921317Z",
          "iopub.status.busy": "2025-03-21T08:36:11.920895Z",
          "iopub.status.idle": "2025-03-21T08:36:11.926513Z",
          "shell.execute_reply": "2025-03-21T08:36:11.925612Z"
        },
        "papermill": {
          "duration": 0.01511,
          "end_time": "2025-03-21T08:36:11.928177",
          "exception": false,
          "start_time": "2025-03-21T08:36:11.913067",
          "status": "completed"
        },
        "tags": [],
        "id": "9c4e37ee",
        "outputId": "0f863f3b-b83a-4156-bb50-9118290a981a"
      },
      "outputs": [
        {
          "data": {
            "text/plain": [
              "(3000, 10)"
            ]
          },
          "execution_count": 11,
          "metadata": {},
          "output_type": "execute_result"
        }
      ],
      "source": [
        "df.shape"
      ]
    },
    {
      "cell_type": "code",
      "execution_count": null,
      "id": "84bfaf9f",
      "metadata": {
        "execution": {
          "iopub.execute_input": "2025-03-21T08:36:11.943440Z",
          "iopub.status.busy": "2025-03-21T08:36:11.943055Z",
          "iopub.status.idle": "2025-03-21T08:36:11.949125Z",
          "shell.execute_reply": "2025-03-21T08:36:11.948236Z"
        },
        "papermill": {
          "duration": 0.015603,
          "end_time": "2025-03-21T08:36:11.950816",
          "exception": false,
          "start_time": "2025-03-21T08:36:11.935213",
          "status": "completed"
        },
        "tags": [],
        "id": "84bfaf9f",
        "outputId": "9a4d0e4a-90c0-44a4-e234-a1adbfaf19aa"
      },
      "outputs": [
        {
          "data": {
            "text/plain": [
              "Index(['Country', 'Year', 'Attack Type', 'Target Industry',\n",
              "       'Financial Loss (in Million $)', 'Number of Affected Users',\n",
              "       'Attack Source', 'Security Vulnerability Type',\n",
              "       'Defense Mechanism Used', 'Incident Resolution Time (in Hours)'],\n",
              "      dtype='object')"
            ]
          },
          "execution_count": 12,
          "metadata": {},
          "output_type": "execute_result"
        }
      ],
      "source": [
        "df.columns"
      ]
    },
    {
      "cell_type": "markdown",
      "id": "a38690f3",
      "metadata": {
        "papermill": {
          "duration": 0.006705,
          "end_time": "2025-03-21T08:36:11.964699",
          "exception": false,
          "start_time": "2025-03-21T08:36:11.957994",
          "status": "completed"
        },
        "tags": [],
        "id": "a38690f3"
      },
      "source": [
        "## data visualizations"
      ]
    },
    {
      "cell_type": "code",
      "execution_count": null,
      "id": "99be0807",
      "metadata": {
        "execution": {
          "iopub.execute_input": "2025-03-21T08:36:11.979974Z",
          "iopub.status.busy": "2025-03-21T08:36:11.979637Z",
          "iopub.status.idle": "2025-03-21T08:36:14.064788Z",
          "shell.execute_reply": "2025-03-21T08:36:14.063652Z"
        },
        "papermill": {
          "duration": 2.095751,
          "end_time": "2025-03-21T08:36:14.067567",
          "exception": false,
          "start_time": "2025-03-21T08:36:11.971816",
          "status": "completed"
        },
        "tags": [],
        "id": "99be0807",
        "outputId": "0e313e85-97b3-4491-acd2-9fc31a30a397"
      },
      "outputs": [
        {
          "data": {
            "image/png": "[encoded data removed]",
            "text/plain": [
              "<Figure size 1400x800 with 6 Axes>"
            ]
          },
          "metadata": {},
          "output_type": "display_data"
        }
      ],
      "source": [
        "# Set seaborn style\n",
        "sns.set_theme(style=\"darkgrid\", palette=\"deep\")\n",
        "\n",
        "# Figure size\n",
        "plt.figure(figsize=(14, 8))\n",
        "\n",
        "# 1. Number of Attacks per Year\n",
        "plt.subplot(2, 3, 1)\n",
        "sns.countplot(data=df, x=\"Year\", order=sorted(df[\"Year\"].unique()), color=\"darkblue\")\n",
        "plt.xticks(rotation=45)\n",
        "plt.title(\"Cyber Attacks Over the Years\")\n",
        "\n",
        "# 2. Top 10 Most Affected Countries\n",
        "plt.subplot(2, 3, 2)\n",
        "top_countries = df[\"Country\"].value_counts().head(10)\n",
        "sns.barplot(x=top_countries.values, y=top_countries.index, color=\"darkred\")\n",
        "plt.title(\"Top 10 Affected Countries\")\n",
        "\n",
        "# 3. Attack Type Distribution\n",
        "plt.subplot(2, 3, 3)\n",
        "df[\"Attack Type\"].value_counts().plot.pie(autopct=\"%1.1f%%\", colors=sns.color_palette(\"pastel\"))\n",
        "plt.ylabel(\"\")\n",
        "plt.title(\"Attack Types Distribution\")\n",
        "\n",
        "# 4. Most Targeted Industries\n",
        "plt.subplot(2, 3, 4)\n",
        "top_industries = df[\"Target Industry\"].value_counts().head(10)\n",
        "sns.barplot(y=top_industries.index, x=top_industries.values, color=\"darkgreen\")\n",
        "plt.title(\"Most Targeted Industries\")\n",
        "\n",
        "# 5. Financial Loss Distribution (Boxplot)\n",
        "plt.subplot(2, 3, 5)\n",
        "sns.boxplot(data=df, y=\"Financial Loss (in Million $)\", color=\"purple\")\n",
        "plt.yscale(\"log\")\n",
        "plt.title(\"Financial Loss Distribution\")\n",
        "\n",
        "# 6. Incident Resolution Time Analysis (KDE Plot)\n",
        "plt.subplot(2, 3, 6)\n",
        "sns.kdeplot(df[\"Incident Resolution Time (in Hours)\"], fill=True, color=\"orange\")\n",
        "plt.title(\"Incident Resolution Time Distribution\")\n",
        "\n",
        "plt.tight_layout()\n",
        "plt.show()"
      ]
    },
    {
      "cell_type": "markdown",
      "id": "797a0110",
      "metadata": {
        "papermill": {
          "duration": 0.009921,
          "end_time": "2025-03-21T08:36:14.087684",
          "exception": false,
          "start_time": "2025-03-21T08:36:14.077763",
          "status": "completed"
        },
        "tags": [],
        "id": "797a0110"
      },
      "source": [
        "## Predictive modeling"
      ]
    },
    {
      "cell_type": "code",
      "execution_count": null,
      "id": "d365dc3e",
      "metadata": {
        "execution": {
          "iopub.execute_input": "2025-03-21T08:36:14.109024Z",
          "iopub.status.busy": "2025-03-21T08:36:14.108680Z",
          "iopub.status.idle": "2025-03-21T08:36:15.262231Z",
          "shell.execute_reply": "2025-03-21T08:36:15.261173Z"
        },
        "papermill": {
          "duration": 1.166461,
          "end_time": "2025-03-21T08:36:15.264165",
          "exception": false,
          "start_time": "2025-03-21T08:36:14.097704",
          "status": "completed"
        },
        "tags": [],
        "id": "d365dc3e"
      },
      "outputs": [],
      "source": [
        "from sklearn.model_selection import train_test_split\n",
        "from sklearn.preprocessing import LabelEncoder, StandardScaler\n",
        "from sklearn.linear_model import LogisticRegression\n",
        "from sklearn.tree import DecisionTreeClassifier\n",
        "from sklearn.ensemble import RandomForestClassifier\n",
        "from xgboost import XGBClassifier\n",
        "from sklearn.svm import SVC\n",
        "from sklearn.neighbors import KNeighborsClassifier\n",
        "from sklearn.neural_network import MLPClassifier\n",
        "from sklearn.metrics import accuracy_score, classification_report"
      ]
    },
    {
      "cell_type": "code",
      "execution_count": null,
      "id": "7252dde0",
      "metadata": {
        "execution": {
          "iopub.execute_input": "2025-03-21T08:36:15.286002Z",
          "iopub.status.busy": "2025-03-21T08:36:15.285668Z",
          "iopub.status.idle": "2025-03-21T08:36:15.297851Z",
          "shell.execute_reply": "2025-03-21T08:36:15.296471Z"
        },
        "papermill": {
          "duration": 0.025322,
          "end_time": "2025-03-21T08:36:15.299825",
          "exception": false,
          "start_time": "2025-03-21T08:36:15.274503",
          "status": "completed"
        },
        "tags": [],
        "id": "7252dde0",
        "outputId": "2542e6f4-b964-43f7-e960-2ca2f21d2f4f"
      },
      "outputs": [
        {
          "name": "stdout",
          "output_type": "stream",
          "text": [
            "<class 'pandas.core.frame.DataFrame'>\n",
            "RangeIndex: 3000 entries, 0 to 2999\n",
            "Data columns (total 10 columns):\n",
            " #   Column                               Non-Null Count  Dtype  \n",
            "---  ------                               --------------  -----  \n",
            " 0   Country                              3000 non-null   object \n",
            " 1   Year                                 3000 non-null   int64  \n",
            " 2   Attack Type                          3000 non-null   object \n",
            " 3   Target Industry                      3000 non-null   object \n",
            " 4   Financial Loss (in Million $)        3000 non-null   float64\n",
            " 5   Number of Affected Users             3000 non-null   int64  \n",
            " 6   Attack Source                        3000 non-null   object \n",
            " 7   Security Vulnerability Type          3000 non-null   object \n",
            " 8   Defense Mechanism Used               3000 non-null   object \n",
            " 9   Incident Resolution Time (in Hours)  3000 non-null   int64  \n",
            "dtypes: float64(1), int64(3), object(6)\n",
            "memory usage: 234.5+ KB\n",
            "None\n"
          ]
        }
      ],
      "source": [
        "# Display basic info\n",
        "print(df.info())"
      ]
    },
    {
      "cell_type": "code",
      "execution_count": null,
      "id": "4fc30fee",
      "metadata": {
        "execution": {
          "iopub.execute_input": "2025-03-21T08:36:15.321950Z",
          "iopub.status.busy": "2025-03-21T08:36:15.321630Z",
          "iopub.status.idle": "2025-03-21T08:36:15.327803Z",
          "shell.execute_reply": "2025-03-21T08:36:15.326885Z"
        },
        "papermill": {
          "duration": 0.019072,
          "end_time": "2025-03-21T08:36:15.329519",
          "exception": false,
          "start_time": "2025-03-21T08:36:15.310447",
          "status": "completed"
        },
        "tags": [],
        "id": "4fc30fee"
      },
      "outputs": [],
      "source": [
        "# Handling Missing Values\n",
        "df.dropna(inplace=True)  # Drop rows with missing values"
      ]
    },
    {
      "cell_type": "code",
      "execution_count": null,
      "id": "71edb881",
      "metadata": {
        "execution": {
          "iopub.execute_input": "2025-03-21T08:36:15.351486Z",
          "iopub.status.busy": "2025-03-21T08:36:15.351088Z",
          "iopub.status.idle": "2025-03-21T08:36:15.355420Z",
          "shell.execute_reply": "2025-03-21T08:36:15.354331Z"
        },
        "papermill": {
          "duration": 0.017386,
          "end_time": "2025-03-21T08:36:15.357086",
          "exception": false,
          "start_time": "2025-03-21T08:36:15.339700",
          "status": "completed"
        },
        "tags": [],
        "id": "71edb881"
      },
      "outputs": [],
      "source": [
        "# Encoding Categorical Features\n",
        "categorical_columns = ['Country', 'Year', 'Attack Type', 'Target Industry',\n",
        "                       'Attack Source', 'Security Vulnerability Type', 'Defense Mechanism Used']"
      ]
    },
    {
      "cell_type": "code",
      "execution_count": null,
      "id": "7c7f0ddb",
      "metadata": {
        "execution": {
          "iopub.execute_input": "2025-03-21T08:36:15.379527Z",
          "iopub.status.busy": "2025-03-21T08:36:15.379118Z",
          "iopub.status.idle": "2025-03-21T08:36:15.391708Z",
          "shell.execute_reply": "2025-03-21T08:36:15.390684Z"
        },
        "papermill": {
          "duration": 0.025673,
          "end_time": "2025-03-21T08:36:15.393610",
          "exception": false,
          "start_time": "2025-03-21T08:36:15.367937",
          "status": "completed"
        },
        "tags": [],
        "id": "7c7f0ddb"
      },
      "outputs": [],
      "source": [
        "label_encoders = {}\n",
        "for col in categorical_columns:\n",
        "    le = LabelEncoder()\n",
        "    df[col] = le.fit_transform(df[col])\n",
        "    label_encoders[col] = le  # Store encoders for future use"
      ]
    },
    {
      "cell_type": "code",
      "execution_count": null,
      "id": "da8efb0a",
      "metadata": {
        "execution": {
          "iopub.execute_input": "2025-03-21T08:36:15.415235Z",
          "iopub.status.busy": "2025-03-21T08:36:15.414909Z",
          "iopub.status.idle": "2025-03-21T08:36:15.422740Z",
          "shell.execute_reply": "2025-03-21T08:36:15.421592Z"
        },
        "papermill": {
          "duration": 0.020782,
          "end_time": "2025-03-21T08:36:15.424592",
          "exception": false,
          "start_time": "2025-03-21T08:36:15.403810",
          "status": "completed"
        },
        "tags": [],
        "id": "da8efb0a"
      },
      "outputs": [],
      "source": [
        "# Defining Features (X) and Target (y)\n",
        "X = df.drop(columns=[\"Attack Type\"])  # Predicting \"Attack Type\"\n",
        "y = df[\"Attack Type\"]"
      ]
    },
    {
      "cell_type": "code",
      "execution_count": null,
      "id": "5dee7265",
      "metadata": {
        "execution": {
          "iopub.execute_input": "2025-03-21T08:36:15.446461Z",
          "iopub.status.busy": "2025-03-21T08:36:15.446071Z",
          "iopub.status.idle": "2025-03-21T08:36:15.453574Z",
          "shell.execute_reply": "2025-03-21T08:36:15.452387Z"
        },
        "papermill": {
          "duration": 0.020284,
          "end_time": "2025-03-21T08:36:15.455215",
          "exception": false,
          "start_time": "2025-03-21T08:36:15.434931",
          "status": "completed"
        },
        "tags": [],
        "id": "5dee7265"
      },
      "outputs": [],
      "source": [
        "# Train-Test Split (80-20)\n",
        "X_train, X_test, y_train, y_test = train_test_split(X, y, test_size=0.2, random_state=42)"
      ]
    },
    {
      "cell_type": "code",
      "execution_count": null,
      "id": "b74bda45",
      "metadata": {
        "execution": {
          "iopub.execute_input": "2025-03-21T08:36:15.476933Z",
          "iopub.status.busy": "2025-03-21T08:36:15.476567Z",
          "iopub.status.idle": "2025-03-21T08:36:15.499810Z",
          "shell.execute_reply": "2025-03-21T08:36:15.498536Z"
        },
        "papermill": {
          "duration": 0.03664,
          "end_time": "2025-03-21T08:36:15.502141",
          "exception": false,
          "start_time": "2025-03-21T08:36:15.465501",
          "status": "completed"
        },
        "tags": [],
        "id": "b74bda45"
      },
      "outputs": [],
      "source": [
        "# Feature Scaling (for better performance in distance-based models)\n",
        "scaler = StandardScaler()\n",
        "X_train = scaler.fit_transform(X_train)\n",
        "X_test = scaler.transform(X_test)"
      ]
    },
    {
      "cell_type": "code",
      "execution_count": null,
      "id": "97a7f23c",
      "metadata": {
        "execution": {
          "iopub.execute_input": "2025-03-21T08:36:15.524276Z",
          "iopub.status.busy": "2025-03-21T08:36:15.523804Z",
          "iopub.status.idle": "2025-03-21T08:36:15.528854Z",
          "shell.execute_reply": "2025-03-21T08:36:15.527232Z"
        },
        "papermill": {
          "duration": 0.018194,
          "end_time": "2025-03-21T08:36:15.530753",
          "exception": false,
          "start_time": "2025-03-21T08:36:15.512559",
          "status": "completed"
        },
        "tags": [],
        "id": "97a7f23c"
      },
      "outputs": [],
      "source": [
        "# Store results\n",
        "results = {}"
      ]
    },
    {
      "cell_type": "code",
      "execution_count": null,
      "id": "db84b309",
      "metadata": {
        "execution": {
          "iopub.execute_input": "2025-03-21T08:36:15.553448Z",
          "iopub.status.busy": "2025-03-21T08:36:15.552915Z",
          "iopub.status.idle": "2025-03-21T08:36:15.558531Z",
          "shell.execute_reply": "2025-03-21T08:36:15.557398Z"
        },
        "papermill": {
          "duration": 0.019324,
          "end_time": "2025-03-21T08:36:15.560792",
          "exception": false,
          "start_time": "2025-03-21T08:36:15.541468",
          "status": "completed"
        },
        "tags": [],
        "id": "db84b309"
      },
      "outputs": [],
      "source": [
        "# Machine Learning Models\n",
        "models = {\n",
        "    \"Logistic Regression\": LogisticRegression(max_iter=500),\n",
        "    \"Decision Tree\": DecisionTreeClassifier(),\n",
        "    \"Random Forest\": RandomForestClassifier(n_estimators=100),\n",
        "    \"XGBoost\": XGBClassifier(use_label_encoder=False, eval_metric=\"mlogloss\"),\n",
        "    \"SVM\": SVC(),\n",
        "    \"KNN\": KNeighborsClassifier(n_neighbors=5),\n",
        "    \"Neural Network\": MLPClassifier(hidden_layer_sizes=(64, 32), max_iter=500)\n",
        "}"
      ]
    },
    {
      "cell_type": "code",
      "execution_count": null,
      "id": "1b0c5941",
      "metadata": {
        "execution": {
          "iopub.execute_input": "2025-03-21T08:36:15.583438Z",
          "iopub.status.busy": "2025-03-21T08:36:15.583004Z",
          "iopub.status.idle": "2025-03-21T08:36:24.153956Z",
          "shell.execute_reply": "2025-03-21T08:36:24.152412Z"
        },
        "papermill": {
          "duration": 8.584542,
          "end_time": "2025-03-21T08:36:24.155895",
          "exception": false,
          "start_time": "2025-03-21T08:36:15.571353",
          "status": "completed"
        },
        "tags": [],
        "id": "1b0c5941",
        "outputId": "61f1bdce-94d2-4c75-8a10-d0e271e82320"
      },
      "outputs": [
        {
          "name": "stdout",
          "output_type": "stream",
          "text": [
            "\n",
            "Logistic Regression Accuracy: 0.1400\n",
            "              precision    recall  f1-score   support\n",
            "\n",
            "           0       0.17      0.18      0.17       111\n",
            "           1       0.11      0.08      0.09        97\n",
            "           2       0.06      0.01      0.02        99\n",
            "           3       0.18      0.33      0.24       103\n",
            "           4       0.10      0.23      0.14        79\n",
            "           5       0.19      0.03      0.05       111\n",
            "\n",
            "    accuracy                           0.14       600\n",
            "   macro avg       0.13      0.14      0.12       600\n",
            "weighted avg       0.14      0.14      0.12       600\n",
            "\n",
            "\n",
            "Decision Tree Accuracy: 0.1600\n",
            "              precision    recall  f1-score   support\n",
            "\n",
            "           0       0.19      0.17      0.18       111\n",
            "           1       0.12      0.13      0.13        97\n",
            "           2       0.16      0.16      0.16        99\n",
            "           3       0.18      0.16      0.16       103\n",
            "           4       0.10      0.10      0.10        79\n",
            "           5       0.19      0.22      0.20       111\n",
            "\n",
            "    accuracy                           0.16       600\n",
            "   macro avg       0.16      0.16      0.16       600\n",
            "weighted avg       0.16      0.16      0.16       600\n",
            "\n",
            "\n",
            "Random Forest Accuracy: 0.1600\n",
            "              precision    recall  f1-score   support\n",
            "\n",
            "           0       0.17      0.18      0.17       111\n",
            "           1       0.17      0.19      0.18        97\n",
            "           2       0.15      0.10      0.12        99\n",
            "           3       0.20      0.20      0.20       103\n",
            "           4       0.13      0.18      0.15        79\n",
            "           5       0.14      0.12      0.13       111\n",
            "\n",
            "    accuracy                           0.16       600\n",
            "   macro avg       0.16      0.16      0.16       600\n",
            "weighted avg       0.16      0.16      0.16       600\n",
            "\n",
            "\n",
            "XGBoost Accuracy: 0.1600\n",
            "              precision    recall  f1-score   support\n",
            "\n",
            "           0       0.11      0.12      0.12       111\n",
            "           1       0.19      0.19      0.19        97\n",
            "           2       0.22      0.17      0.19        99\n",
            "           3       0.17      0.17      0.17       103\n",
            "           4       0.10      0.13      0.11        79\n",
            "           5       0.19      0.18      0.19       111\n",
            "\n",
            "    accuracy                           0.16       600\n",
            "   macro avg       0.16      0.16      0.16       600\n",
            "weighted avg       0.17      0.16      0.16       600\n",
            "\n",
            "\n",
            "SVM Accuracy: 0.1483\n",
            "              precision    recall  f1-score   support\n",
            "\n",
            "           0       0.15      0.20      0.17       111\n",
            "           1       0.16      0.14      0.15        97\n",
            "           2       0.18      0.06      0.09        99\n",
            "           3       0.18      0.19      0.19       103\n",
            "           4       0.11      0.16      0.13        79\n",
            "           5       0.13      0.13      0.13       111\n",
            "\n",
            "    accuracy                           0.15       600\n",
            "   macro avg       0.15      0.15      0.14       600\n",
            "weighted avg       0.15      0.15      0.14       600\n",
            "\n",
            "\n",
            "KNN Accuracy: 0.1683\n",
            "              precision    recall  f1-score   support\n",
            "\n",
            "           0       0.22      0.29      0.25       111\n",
            "           1       0.19      0.22      0.20        97\n",
            "           2       0.15      0.14      0.15        99\n",
            "           3       0.12      0.11      0.11       103\n",
            "           4       0.11      0.13      0.12        79\n",
            "           5       0.20      0.12      0.15       111\n",
            "\n",
            "    accuracy                           0.17       600\n",
            "   macro avg       0.16      0.17      0.16       600\n",
            "weighted avg       0.17      0.17      0.16       600\n",
            "\n",
            "\n",
            "Neural Network Accuracy: 0.1600\n",
            "              precision    recall  f1-score   support\n",
            "\n",
            "           0       0.17      0.16      0.17       111\n",
            "           1       0.11      0.09      0.10        97\n",
            "           2       0.15      0.16      0.15        99\n",
            "           3       0.18      0.19      0.19       103\n",
            "           4       0.17      0.20      0.19        79\n",
            "           5       0.18      0.15      0.16       111\n",
            "\n",
            "    accuracy                           0.16       600\n",
            "   macro avg       0.16      0.16      0.16       600\n",
            "weighted avg       0.16      0.16      0.16       600\n",
            "\n",
            "\n",
            "Model Performance Summary:\n",
            "Logistic Regression: 0.1400\n",
            "Decision Tree: 0.1600\n",
            "Random Forest: 0.1600\n",
            "XGBoost: 0.1600\n",
            "SVM: 0.1483\n",
            "KNN: 0.1683\n",
            "Neural Network: 0.1600\n"
          ]
        }
      ],
      "source": [
        "# Training and Evaluating Models\n",
        "for name, model in models.items():\n",
        "    model.fit(X_train, y_train)\n",
        "    y_pred = model.predict(X_test)\n",
        "    acc = accuracy_score(y_test, y_pred)\n",
        "    print(f\"\\n{name} Accuracy: {acc:.4f}\")\n",
        "    print(classification_report(y_test, y_pred))\n",
        "    results[name] = acc\n",
        "\n",
        "# Display Model Performance\n",
        "print(\"\\nModel Performance Summary:\")\n",
        "for model, acc in results.items():\n",
        "    print(f\"{model}: {acc:.4f}\")"
      ]
    },
    {
      "cell_type": "markdown",
      "id": "7af2ac15",
      "metadata": {
        "papermill": {
          "duration": 0.010113,
          "end_time": "2025-03-21T08:36:24.176680",
          "exception": false,
          "start_time": "2025-03-21T08:36:24.166567",
          "status": "completed"
        },
        "tags": [],
        "id": "7af2ac15"
      },
      "source": [
        "## Thank you!!!...upvote!!!"
      ]
    }
  ],
  "metadata": {
    "kaggle": {
      "accelerator": "none",
      "dataSources": [
        {
          "datasetId": 6880672,
          "sourceId": 11045772,
          "sourceType": "datasetVersion"
        }
      ],
      "dockerImageVersionId": 30918,
      "isGpuEnabled": false,
      "isInternetEnabled": true,
      "language": "python",
      "sourceType": "notebook"
    },
    "kernelspec": {
      "display_name": "Python 3",
      "language": "python",
      "name": "python3"
    },
    "language_info": {
      "codemirror_mode": {
        "name": "ipython",
        "version": 3
      },
      "file_extension": ".py",
      "mimetype": "text/x-python",
      "name": "python",
      "nbconvert_exporter": "python",
      "pygments_lexer": "ipython3",
      "version": "3.10.12"
    },
    "papermill": {
      "default_parameters": {},
      "duration": 19.043231,
      "end_time": "2025-03-21T08:36:25.007703",
      "environment_variables": {},
      "exception": null,
      "input_path": "__notebook__.ipynb",
      "output_path": "__notebook__.ipynb",
      "parameters": {},
      "start_time": "2025-03-21T08:36:05.964472",
      "version": "2.6.0"
    },
    "colab": {
      "provenance": [],
      "include_colab_link": true
    }
  },
  "nbformat": 4,
  "nbformat_minor": 5
}