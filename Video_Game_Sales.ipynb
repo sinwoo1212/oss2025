{
  "metadata": {
    "kernelspec": {
      "language": "python",
      "display_name": "Python 3",
      "name": "python3"
    },
    "language_info": {
      "name": "python",
      "version": "3.10.12",
      "mimetype": "text/x-python",
      "codemirror_mode": {
        "name": "ipython",
        "version": 3
      },
      "pygments_lexer": "ipython3",
      "nbconvert_exporter": "python",
      "file_extension": ".py"
    },
    "kaggle": {
      "accelerator": "none",
      "dataSources": [
        {
          "sourceId": 10828130,
          "sourceType": "datasetVersion",
          "datasetId": 6723569
        }
      ],
      "dockerImageVersionId": 30918,
      "isInternetEnabled": true,
      "language": "python",
      "sourceType": "notebook",
      "isGpuEnabled": false
    },
    "colab": {
      "name": "Video Game Sales",
      "provenance": [],
      "include_colab_link": true
    }
  },
  "nbformat_minor": 0,
  "nbformat": 4,
  "cells": [
    {
      "cell_type": "markdown",
      "metadata": {
        "id": "view-in-github",
        "colab_type": "text"
      },
      "source": [
        "<a href=\"https://colab.research.google.com/github/sinwoo1212/oss2025/blob/main/Video_Game_Sales.ipynb\" target=\"_parent\"><img src=\"https://colab.research.google.com/assets/colab-badge.svg\" alt=\"Open In Colab\"/></a>"
      ]
    },
    {
      "source": [
        "# IMPORTANT: RUN THIS CELL IN ORDER TO IMPORT YOUR KAGGLE DATA SOURCES,\n",
        "# THEN FEEL FREE TO DELETE THIS CELL.\n",
        "# NOTE: THIS NOTEBOOK ENVIRONMENT DIFFERS FROM KAGGLE'S PYTHON\n",
        "# ENVIRONMENT SO THERE MAY BE MISSING LIBRARIES USED BY YOUR\n",
        "# NOTEBOOK.\n",
        "import kagglehub\n",
        "anandshaw2001_video_game_sales_path = kagglehub.dataset_download('anandshaw2001/video-game-sales')\n",
        "\n",
        "print('Data source import complete.')\n"
      ],
      "metadata": {
        "id": "o8G6SPonLZmc"
      },
      "cell_type": "code",
      "outputs": [],
      "execution_count": null
    },
    {
      "cell_type": "markdown",
      "source": [
        "بسم الله"
      ],
      "metadata": {
        "id": "vXt1gHsDLZmf"
      }
    },
    {
      "cell_type": "code",
      "source": [
        "import pandas as pd\n",
        "import numpy as np\n",
        "import seaborn as sns\n",
        "import matplotlib.pyplot as plt\n",
        "from sklearn.preprocessing import LabelEncoder\n",
        "from sklearn.neighbors import KNeighborsRegressor\n",
        "from sklearn.metrics import mean_squared_error, r2_score\n",
        "from sklearn.linear_model import LinearRegression\n",
        "import xgboost as xgb\n",
        "from tabulate import tabulate\n",
        "import scipy.stats as stats\n",
        "import warnings\n",
        "warnings.filterwarnings('ignore')"
      ],
      "metadata": {
        "trusted": true,
        "execution": {
          "iopub.status.busy": "2025-03-07T10:57:49.452183Z",
          "iopub.execute_input": "2025-03-07T10:57:49.452388Z",
          "iopub.status.idle": "2025-03-07T10:57:51.98612Z",
          "shell.execute_reply.started": "2025-03-07T10:57:49.452362Z",
          "shell.execute_reply": "2025-03-07T10:57:51.984872Z"
        },
        "id": "C8wxbzwZLZmg"
      },
      "outputs": [],
      "execution_count": null
    },
    {
      "cell_type": "code",
      "source": [
        "file_path = '/kaggle/input/video-game-sales/vgsales.csv'\n",
        "df = pd.read_csv(file_path, encoding='MacRoman')\n",
        "\n",
        "# Display the first few rows\n",
        "df.head()"
      ],
      "metadata": {
        "trusted": true,
        "execution": {
          "iopub.status.busy": "2025-03-07T10:57:51.988043Z",
          "iopub.execute_input": "2025-03-07T10:57:51.988679Z",
          "iopub.status.idle": "2025-03-07T10:57:52.087218Z",
          "shell.execute_reply.started": "2025-03-07T10:57:51.98864Z",
          "shell.execute_reply": "2025-03-07T10:57:52.086007Z"
        },
        "id": "wEZCEzdZLZmh"
      },
      "outputs": [],
      "execution_count": null
    },
    {
      "cell_type": "code",
      "source": [
        "df.dtypes\n"
      ],
      "metadata": {
        "trusted": true,
        "execution": {
          "iopub.status.busy": "2025-03-07T10:57:52.092827Z",
          "iopub.execute_input": "2025-03-07T10:57:52.093125Z",
          "iopub.status.idle": "2025-03-07T10:57:52.100747Z",
          "shell.execute_reply.started": "2025-03-07T10:57:52.093098Z",
          "shell.execute_reply": "2025-03-07T10:57:52.099689Z"
        },
        "id": "qDcFX7L1LZmh"
      },
      "outputs": [],
      "execution_count": null
    },
    {
      "cell_type": "code",
      "source": [
        "df.shape\n"
      ],
      "metadata": {
        "trusted": true,
        "execution": {
          "iopub.status.busy": "2025-03-07T10:57:52.101594Z",
          "iopub.execute_input": "2025-03-07T10:57:52.101953Z",
          "iopub.status.idle": "2025-03-07T10:57:52.122822Z",
          "shell.execute_reply.started": "2025-03-07T10:57:52.101895Z",
          "shell.execute_reply": "2025-03-07T10:57:52.121598Z"
        },
        "id": "2X29dnIbLZmi"
      },
      "outputs": [],
      "execution_count": null
    },
    {
      "cell_type": "code",
      "source": [
        "df.duplicated().sum()\n"
      ],
      "metadata": {
        "trusted": true,
        "execution": {
          "iopub.status.busy": "2025-03-07T10:57:52.123531Z",
          "iopub.execute_input": "2025-03-07T10:57:52.123816Z",
          "iopub.status.idle": "2025-03-07T10:57:52.161819Z",
          "shell.execute_reply.started": "2025-03-07T10:57:52.12379Z",
          "shell.execute_reply": "2025-03-07T10:57:52.160544Z"
        },
        "id": "NnqTM1XCLZmi"
      },
      "outputs": [],
      "execution_count": null
    },
    {
      "cell_type": "code",
      "source": [
        "df.isna().sum()\n"
      ],
      "metadata": {
        "trusted": true,
        "execution": {
          "iopub.status.busy": "2025-03-07T10:57:52.162839Z",
          "iopub.execute_input": "2025-03-07T10:57:52.163186Z",
          "iopub.status.idle": "2025-03-07T10:57:52.175582Z",
          "shell.execute_reply.started": "2025-03-07T10:57:52.163154Z",
          "shell.execute_reply": "2025-03-07T10:57:52.174741Z"
        },
        "id": "yHqKa_Z4LZmi"
      },
      "outputs": [],
      "execution_count": null
    },
    {
      "cell_type": "code",
      "source": [
        "df.info()\n"
      ],
      "metadata": {
        "trusted": true,
        "execution": {
          "iopub.status.busy": "2025-03-07T10:57:52.177594Z",
          "iopub.execute_input": "2025-03-07T10:57:52.178464Z",
          "iopub.status.idle": "2025-03-07T10:57:52.201364Z",
          "shell.execute_reply.started": "2025-03-07T10:57:52.17841Z",
          "shell.execute_reply": "2025-03-07T10:57:52.200036Z"
        },
        "id": "G_Nd__b5LZmi"
      },
      "outputs": [],
      "execution_count": null
    },
    {
      "cell_type": "code",
      "source": [
        "df.describe(include=\"all\")\n"
      ],
      "metadata": {
        "trusted": true,
        "execution": {
          "iopub.status.busy": "2025-03-07T10:57:52.202585Z",
          "iopub.execute_input": "2025-03-07T10:57:52.202829Z",
          "iopub.status.idle": "2025-03-07T10:57:52.257413Z",
          "shell.execute_reply.started": "2025-03-07T10:57:52.202808Z",
          "shell.execute_reply": "2025-03-07T10:57:52.255945Z"
        },
        "id": "3Iabs9nSLZmj"
      },
      "outputs": [],
      "execution_count": null
    },
    {
      "cell_type": "code",
      "source": [
        "numeric_df = df.select_dtypes(include=[np.number])\n",
        "plt.figure(figsize=(10, 8))\n",
        "sns.heatmap(numeric_df.corr(), annot=True, cmap='coolwarm')\n",
        "plt.title('Correlation Heatmap')\n",
        "plt.show()"
      ],
      "metadata": {
        "trusted": true,
        "execution": {
          "iopub.status.busy": "2025-03-07T10:57:52.258642Z",
          "iopub.execute_input": "2025-03-07T10:57:52.259065Z",
          "iopub.status.idle": "2025-03-07T10:57:52.753596Z",
          "shell.execute_reply.started": "2025-03-07T10:57:52.259011Z",
          "shell.execute_reply": "2025-03-07T10:57:52.752719Z"
        },
        "id": "Vg-raVwmLZmj"
      },
      "outputs": [],
      "execution_count": null
    },
    {
      "cell_type": "code",
      "source": [
        "# Check for missing values\n",
        "missing_values = df.isnull().sum()\n",
        "print('Missing values in each column:')\n",
        "print(missing_values)\n",
        "\n",
        "# Optional: Clean the 'Year' column if necessary. Since it is a numeric type, we'll coerce errors (if any) to NaN and then decide.\n",
        "df['Year'] = pd.to_numeric(df['Year'], errors='coerce')\n",
        "\n",
        "# For simplicity, let's fill missing years with the median year\n",
        "median_year = int(df['Year'].median())\n",
        "df['Year'].fillna(median_year, inplace=True)\n",
        "\n",
        "print('\\nAfter cleaning, missing values:')\n",
        "print(df.isnull().sum())\n",
        "\n",
        "# Removing any duplicate rows as a precaution\n",
        "df.drop_duplicates(inplace=True)"
      ],
      "metadata": {
        "trusted": true,
        "execution": {
          "iopub.status.busy": "2025-03-07T10:58:00.621554Z",
          "iopub.execute_input": "2025-03-07T10:58:00.621878Z",
          "iopub.status.idle": "2025-03-07T10:58:00.646529Z",
          "shell.execute_reply.started": "2025-03-07T10:58:00.621849Z",
          "shell.execute_reply": "2025-03-07T10:58:00.645426Z"
        },
        "id": "nYRHP1t5LZmj"
      },
      "outputs": [],
      "execution_count": null
    },
    {
      "cell_type": "code",
      "source": [
        "# Descriptive statistics\n",
        "print('Descriptive statistics for numeric columns:')\n",
        "print(df.describe())\n",
        "\n",
        "# Numeric DataFrame for correlation analysis\n",
        "numeric_df = df.select_dtypes(include=[np.number])\n",
        "\n",
        "# If we have four or more numeric columns, let's plot a correlation heatmap\n",
        "if numeric_df.shape[1] >= 4:\n",
        "    plt.figure(figsize=(10, 8))\n",
        "    corr = numeric_df.corr()\n",
        "    sns.heatmap(corr, annot=True, cmap='coolwarm')\n",
        "    plt.title('Numeric Features Correlation Heatmap')\n",
        "    plt.show()\n",
        "\n",
        "# Pairplot of some numeric columns\n",
        "sns.pairplot(numeric_df)\n",
        "plt.suptitle('Pair Plot of Numeric Features', y=1.02)\n",
        "plt.show()\n",
        "\n",
        "# Histogram of Global Sales\n",
        "plt.figure(figsize=(8, 6))\n",
        "sns.histplot(df['Global_Sales'], bins=30, kde=True)\n",
        "plt.title('Distribution of Global Sales')\n",
        "plt.xlabel('Global Sales (millions)')\n",
        "plt.show()\n",
        "\n",
        "# Count plot for Genre\n",
        "plt.figure(figsize=(10,6))\n",
        "sns.countplot(data=df, x='Genre', order=df['Genre'].value_counts().index)\n",
        "plt.title('Count of Games by Genre')\n",
        "plt.xlabel('Genre')\n",
        "plt.ylabel('Count')\n",
        "plt.xticks(rotation=45)\n",
        "plt.show()\n",
        "\n",
        "# Boxen plot for Global Sales across Platforms\n",
        "plt.figure(figsize=(12, 8))\n",
        "sns.boxenplot(data=df, x='Platform', y='Global_Sales')\n",
        "plt.title('Global Sales by Platform')\n",
        "plt.xlabel('Platform')\n",
        "plt.ylabel('Global Sales (millions)')\n",
        "plt.xticks(rotation=45)\n",
        "plt.show()"
      ],
      "metadata": {
        "trusted": true,
        "execution": {
          "iopub.status.busy": "2025-03-07T10:58:20.009219Z",
          "iopub.execute_input": "2025-03-07T10:58:20.009505Z",
          "iopub.status.idle": "2025-03-07T10:58:46.81205Z",
          "shell.execute_reply.started": "2025-03-07T10:58:20.009485Z",
          "shell.execute_reply": "2025-03-07T10:58:46.811109Z"
        },
        "id": "P7vTvRk6LZmk"
      },
      "outputs": [],
      "execution_count": null
    },
    {
      "cell_type": "code",
      "source": [
        "for col in df:\n",
        "    sns.histplot(x=col,data=df,kde=True)\n",
        "    plt.show()"
      ],
      "metadata": {
        "trusted": true,
        "id": "4MwozJaLLZml"
      },
      "outputs": [],
      "execution_count": null
    },
    {
      "cell_type": "code",
      "source": [
        "for col in df:\n",
        "    if df[col].dtype == 'O':\n",
        "        sns.countplot(x=col,data=df)\n",
        "        plt.show()"
      ],
      "metadata": {
        "trusted": true,
        "id": "6GO99ofuLZml"
      },
      "outputs": [],
      "execution_count": null
    },
    {
      "cell_type": "code",
      "source": [
        "import matplotlib.pyplot as plt\n",
        "from wordcloud import WordCloud, STOPWORDS\n",
        "from collections import Counter\n",
        "import pandas as pd\n",
        "\n",
        "# Assuming `dataset` is your DataFrame and `stop_words_list` is a list of stopwords\n",
        "\n",
        "# Example stopwords list, modify as needed\n",
        "stop_words_list = set(STOPWORDS)\n",
        "\n",
        "# Generate frequency counts from the 'business_category' column\n",
        "counts = Counter(df[\"Name\"].dropna().apply(lambda x: str(x)))\n",
        "\n",
        "# Generate the word cloud\n",
        "wcc = WordCloud(\n",
        "    background_color=\"black\",\n",
        "    width=1600, height=800,\n",
        "    max_words=2000,\n",
        "    stopwords=stop_words_list\n",
        ")\n",
        "wcc.generate_from_frequencies(counts)\n",
        "\n",
        "# Display the word cloud\n",
        "plt.figure(figsize=(10, 5), facecolor='k')\n",
        "plt.imshow(wcc, interpolation='bilinear')\n",
        "plt.axis(\"off\")\n",
        "plt.tight_layout(pad=0)\n",
        "plt.show()"
      ],
      "metadata": {
        "trusted": true,
        "id": "kViLkNtbLZml"
      },
      "outputs": [],
      "execution_count": null
    }
  ]
}