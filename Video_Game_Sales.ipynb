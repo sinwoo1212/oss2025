import pandas as pd
import numpy as np
import matplotlib.pyplot as plt
import seaborn as sns
from wordcloud import WordCloud

# 스타일 설정
sns.set(style="whitegrid")

# 데이터 로드
file_path = 'Video_Game_Sales.csv'
df = pd.read_csv(file_path)

# ====================
# 1. 데이터 탐색 (EDA)
# ====================

def data_overview(data):
    """
    데이터 정보와 간략한 통계 정보를 출력합니다.
    """
    print('데이터 샘플 (상위 5개):')
    print(data.head())
    print('\n데이터 정보:')
    print(data.info())
    print('\n기술 통계:')
    print(data.describe())
    print(f"\n결측값 개수: {data.isna().sum().sum()}")

data_overview(df)

# ====================
# 2. 데이터 전처리
# ====================

df.dropna(inplace=True)  # 결측값 제거

# ====================
# 3. 데이터 시각화
# ====================

def plot_sales_by_year(data):
    plt.figure(figsize=(14, 7))
    sns.countplot(data=data, x='Year')
    plt.title('연도별 게임 출시 수')
    plt.xticks(rotation=90)
    plt.show()

plot_sales_by_year(df)


def plot_sales_by_platform(data):
    platform_sales = data.groupby('Platform')[['Global_Sales']].sum().sort_values(by='Global_Sales', ascending=False)
    plt.figure(figsize=(14, 7))
    sns.barplot(x=platform_sales.index, y=platform_sales['Global_Sales'])
    plt.title('플랫폼별 글로벌 판매량')
    plt.xticks(rotation=90)
    plt.show()

plot_sales_by_platform(df)


def plot_sales_by_genre(data):
    genre_sales = data.groupby('Genre')[['Global_Sales']].sum().sort_values(by='Global_Sales', ascending=False)
    plt.figure(figsize=(14, 7))
    sns.barplot(x=genre_sales.index, y=genre_sales['Global_Sales'])
    plt.title('장르별 글로벌 판매량')
    plt.xticks(rotation=45)
    plt.show()

plot_sales_by_genre(df)


def wordcloud_publishers(data):
    plt.figure(figsize=(14, 7))
    text = ' '.join(data['Publisher'].dropna().astype(str).values)
    wordcloud = WordCloud(width=800, height=400, background_color='white').generate(text)
    plt.imshow(wordcloud, interpolation='bilinear')
    plt.axis('off')
    plt.title('출판사 빈도수 Word Cloud')
    plt.show()

wordcloud_publishers(df)

# ====================
# 4. 인사이트 도출
# ====================

def insight_summary():
    insights = '''
    1. 연도별 게임 출시 수는 2008년경에 가장 많았다.
    2. 특정 플랫폼 (예: PS2, X360) 에서의 판매량이 두드러지게 높다.
    3. 액션, 스포츠, 슈팅 등의 장르가 높은 판매량을 기록한다.
    4. 특정 출판사 (예: Nintendo, Electronic Arts)가 많은 게임을 출시하고 있다.
    '''
    print(insights)

insight_summary()
