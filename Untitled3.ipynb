{
  "nbformat": 4,
  "nbformat_minor": 0,
  "metadata": {
    "colab": {
      "provenance": [],
      "authorship_tag": "ABX9TyOHh/5eSpIQImTq1NhigQ3w",
      "include_colab_link": true
    },
    "kernelspec": {
      "name": "python3",
      "display_name": "Python 3"
    },
    "language_info": {
      "name": "python"
    }
  },
  "cells": [
    {
      "cell_type": "markdown",
      "metadata": {
        "id": "view-in-github",
        "colab_type": "text"
      },
      "source": [
        "<a href=\"https://colab.research.google.com/github/sinwoo1212/oss2025/blob/main/Untitled3.ipynb\" target=\"_parent\"><img src=\"https://colab.research.google.com/assets/colab-badge.svg\" alt=\"Open In Colab\"/></a>"
      ]
    },
    {
      "cell_type": "code",
      "execution_count": 1,
      "metadata": {
        "colab": {
          "base_uri": "https://localhost:8080/",
          "height": 149
        },
        "id": "VPMYQzQk3dwH",
        "outputId": "8ba52a10-e3c4-4bf8-ae9a-77f074579493"
      },
      "outputs": [
        {
          "output_type": "error",
          "ename": "NameError",
          "evalue": "name 'content' is not defined",
          "traceback": [
            "\u001b[0;31m---------------------------------------------------------------------------\u001b[0m",
            "\u001b[0;31mNameError\u001b[0m                                 Traceback (most recent call last)",
            "\u001b[0;32m<ipython-input-1-b1b910f3fcd5>\u001b[0m in \u001b[0;36m<cell line: 0>\u001b[0;34m()\u001b[0m\n\u001b[0;32m----> 1\u001b[0;31m \u001b[0mcontent\u001b[0m\u001b[0;34m/\u001b[0m\u001b[0msample_data\u001b[0m\u001b[0;34m/\u001b[0m\u001b[0mcalifornia_housing_train\u001b[0m\u001b[0;34m.\u001b[0m\u001b[0mcsv\u001b[0m\u001b[0;34m(\u001b[0m\u001b[0;34m)\u001b[0m\u001b[0;34m\u001b[0m\u001b[0;34m\u001b[0m\u001b[0m\n\u001b[0m",
            "\u001b[0;31mNameError\u001b[0m: name 'content' is not defined"
          ]
        }
      ],
      "source": [
        "# prompt: /일별 역별 시간대별 승하차인원(2025년 1월).json 적절한 차트로 출력해줘\n",
        "\n",
        "import json\n",
        "import pandas as pd\n",
        "import matplotlib.pyplot as plt\n",
        "import matplotlib as mpl\n",
        "\n",
        "# 한글 폰트 설정 (matplotlib)\n",
        "mpl.rcParams['font.family'] = 'NanumGothic'  # 혹은 'Malgun Gothic' 등 시스템에 설치된 한글 폰트 사용\n",
        "mpl.rcParams['axes.unicode_minus'] = False  # 마이너스 기호 깨짐 방지\n",
        "\n",
        "\n",
        "# JSON 파일 경로\n",
        "file_path = '/일별 역별 시간대별 승하차인원(2025년 1월).json'\n",
        "\n",
        "try:\n",
        "    with open(file_path, 'r', encoding='utf-8') as f:  # 파일 열기 (encoding='utf-8' 추가)\n",
        "        data = json.load(f)\n",
        "except FileNotFoundError:\n",
        "    print(f\"Error: File '{file_path}' not found.\")\n",
        "    exit()\n",
        "except json.JSONDecodeError:\n",
        "    print(f\"Error: Invalid JSON format in '{file_path}'.\")\n",
        "    exit()\n",
        "\n",
        "# 데이터프레임 생성\n",
        "df = pd.DataFrame(data)\n",
        "\n",
        "# 데이터 확인 및 전처리 (필요에 따라 추가)\n",
        "# 예: 날짜 열을 datetime 형식으로 변환\n",
        "# df['날짜'] = pd.to_datetime(df['날짜'])\n",
        "\n",
        "# 차트 생성 예시 (날짜별 승차 인원 합계)\n",
        "plt.figure(figsize=(12, 6))\n",
        "plt.plot(df['날짜'], df['승차인원'].astype(int)) # 승차 인원을 정수로 변환\n",
        "plt.xlabel('날짜')\n",
        "plt.ylabel('승차인원')\n",
        "plt.title('2025년 1월 일별 승차인원')\n",
        "plt.xticks(rotation=45) # x축 레이블 회전\n",
        "plt.tight_layout()\n",
        "plt.show()\n",
        "\n",
        "# 다른 차트 예시 (역별 시간대별 승하차 인원)\n",
        "# ... (필요한 경우 추가)\n",
        "\n",
        "\n",
        "# 히트맵 예시 (역별 시간대별 승차 인원)\n",
        "# ... (필요한 경우 추가)\n"
      ]
    },
    {
      "cell_type": "code",
      "source": [
        "# prompt: /content/sample_data/california_housing_train.csv\n",
        "\n",
        "import pandas as pd\n",
        "df = pd.read_csv('/content/sample_data/california_housing_train.csv')\n",
        "print(df.head())\n"
      ],
      "metadata": {
        "id": "GM7WriQj4dDY"
      },
      "execution_count": null,
      "outputs": []
    }
  ]
}